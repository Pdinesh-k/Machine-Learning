{
  "nbformat": 4,
  "nbformat_minor": 0,
  "metadata": {
    "colab": {
      "provenance": []
    },
    "kernelspec": {
      "name": "python3",
      "display_name": "Python 3"
    },
    "language_info": {
      "name": "python"
    }
  },
  "cells": [
    {
      "cell_type": "markdown",
      "source": [
        "Pytorch workflow :\n",
        "\n",
        "1) Prepare and Load the Data\n",
        "\n",
        "2) Fitting the model to data\n",
        "\n",
        "3) Making predictions and evaluating the model\n",
        "\n",
        "4) Saving and loading a model\n",
        "\n",
        "5) Putting it all together"
      ],
      "metadata": {
        "id": "lc7nx6EScgis"
      }
    },
    {
      "cell_type": "code",
      "source": [
        "import torch\n",
        "from torch import nn"
      ],
      "metadata": {
        "id": "Skuw7iCBiJvo"
      },
      "execution_count": 1,
      "outputs": []
    },
    {
      "cell_type": "code",
      "source": [
        "import matplotlib.pyplot as plt\n",
        "import seaborn as sns\n",
        "import plotly.express as px"
      ],
      "metadata": {
        "id": "5QNnA-jGYHfM"
      },
      "execution_count": 2,
      "outputs": []
    },
    {
      "cell_type": "code",
      "source": [
        "#workflow of LinearRegression\n",
        "\n",
        "weight = 1\n",
        "bias = 0.0\n",
        "\n",
        "start = 2\n",
        "end = 101\n",
        "range = 2\n",
        "X = torch.arange(start,end,range).unsqueeze(dim=1)\n",
        "y = weight*X+bias"
      ],
      "metadata": {
        "id": "gK2ad4gUetHA"
      },
      "execution_count": 3,
      "outputs": []
    },
    {
      "cell_type": "code",
      "source": [
        "X"
      ],
      "metadata": {
        "id": "JKqmlkAviH4d",
        "colab": {
          "base_uri": "https://localhost:8080/"
        },
        "outputId": "6e24632a-fc1b-4e25-8fe3-f12cae8619e3"
      },
      "execution_count": 4,
      "outputs": [
        {
          "output_type": "execute_result",
          "data": {
            "text/plain": [
              "tensor([[  2],\n",
              "        [  4],\n",
              "        [  6],\n",
              "        [  8],\n",
              "        [ 10],\n",
              "        [ 12],\n",
              "        [ 14],\n",
              "        [ 16],\n",
              "        [ 18],\n",
              "        [ 20],\n",
              "        [ 22],\n",
              "        [ 24],\n",
              "        [ 26],\n",
              "        [ 28],\n",
              "        [ 30],\n",
              "        [ 32],\n",
              "        [ 34],\n",
              "        [ 36],\n",
              "        [ 38],\n",
              "        [ 40],\n",
              "        [ 42],\n",
              "        [ 44],\n",
              "        [ 46],\n",
              "        [ 48],\n",
              "        [ 50],\n",
              "        [ 52],\n",
              "        [ 54],\n",
              "        [ 56],\n",
              "        [ 58],\n",
              "        [ 60],\n",
              "        [ 62],\n",
              "        [ 64],\n",
              "        [ 66],\n",
              "        [ 68],\n",
              "        [ 70],\n",
              "        [ 72],\n",
              "        [ 74],\n",
              "        [ 76],\n",
              "        [ 78],\n",
              "        [ 80],\n",
              "        [ 82],\n",
              "        [ 84],\n",
              "        [ 86],\n",
              "        [ 88],\n",
              "        [ 90],\n",
              "        [ 92],\n",
              "        [ 94],\n",
              "        [ 96],\n",
              "        [ 98],\n",
              "        [100]])"
            ]
          },
          "metadata": {},
          "execution_count": 4
        }
      ]
    },
    {
      "cell_type": "code",
      "source": [
        "y"
      ],
      "metadata": {
        "colab": {
          "base_uri": "https://localhost:8080/"
        },
        "id": "muSawC1iv8d5",
        "outputId": "8098d47f-4c2d-4f34-d540-43c6a1823703"
      },
      "execution_count": 5,
      "outputs": [
        {
          "output_type": "execute_result",
          "data": {
            "text/plain": [
              "tensor([[  2.],\n",
              "        [  4.],\n",
              "        [  6.],\n",
              "        [  8.],\n",
              "        [ 10.],\n",
              "        [ 12.],\n",
              "        [ 14.],\n",
              "        [ 16.],\n",
              "        [ 18.],\n",
              "        [ 20.],\n",
              "        [ 22.],\n",
              "        [ 24.],\n",
              "        [ 26.],\n",
              "        [ 28.],\n",
              "        [ 30.],\n",
              "        [ 32.],\n",
              "        [ 34.],\n",
              "        [ 36.],\n",
              "        [ 38.],\n",
              "        [ 40.],\n",
              "        [ 42.],\n",
              "        [ 44.],\n",
              "        [ 46.],\n",
              "        [ 48.],\n",
              "        [ 50.],\n",
              "        [ 52.],\n",
              "        [ 54.],\n",
              "        [ 56.],\n",
              "        [ 58.],\n",
              "        [ 60.],\n",
              "        [ 62.],\n",
              "        [ 64.],\n",
              "        [ 66.],\n",
              "        [ 68.],\n",
              "        [ 70.],\n",
              "        [ 72.],\n",
              "        [ 74.],\n",
              "        [ 76.],\n",
              "        [ 78.],\n",
              "        [ 80.],\n",
              "        [ 82.],\n",
              "        [ 84.],\n",
              "        [ 86.],\n",
              "        [ 88.],\n",
              "        [ 90.],\n",
              "        [ 92.],\n",
              "        [ 94.],\n",
              "        [ 96.],\n",
              "        [ 98.],\n",
              "        [100.]])"
            ]
          },
          "metadata": {},
          "execution_count": 5
        }
      ]
    },
    {
      "cell_type": "code",
      "source": [
        "torch.is_tensor(X)"
      ],
      "metadata": {
        "colab": {
          "base_uri": "https://localhost:8080/"
        },
        "id": "faxDSRcMwCV9",
        "outputId": "a67b3adc-9545-4681-f401-7f8760930aa4"
      },
      "execution_count": 6,
      "outputs": [
        {
          "output_type": "execute_result",
          "data": {
            "text/plain": [
              "True"
            ]
          },
          "metadata": {},
          "execution_count": 6
        }
      ]
    },
    {
      "cell_type": "code",
      "source": [
        "len(X)"
      ],
      "metadata": {
        "id": "Qfswo7f7yAWX",
        "colab": {
          "base_uri": "https://localhost:8080/"
        },
        "outputId": "3da46b2f-2021-492f-e515-2582b26f6dfe"
      },
      "execution_count": 7,
      "outputs": [
        {
          "output_type": "execute_result",
          "data": {
            "text/plain": [
              "50"
            ]
          },
          "metadata": {},
          "execution_count": 7
        }
      ]
    },
    {
      "cell_type": "code",
      "source": [
        "len(y)"
      ],
      "metadata": {
        "colab": {
          "base_uri": "https://localhost:8080/"
        },
        "id": "_IvHgD_SVIbG",
        "outputId": "499c1f70-edeb-4fbf-b07c-cabd6da9ed8c"
      },
      "execution_count": 8,
      "outputs": [
        {
          "output_type": "execute_result",
          "data": {
            "text/plain": [
              "50"
            ]
          },
          "metadata": {},
          "execution_count": 8
        }
      ]
    },
    {
      "cell_type": "markdown",
      "source": [
        "#Splitting the Data into training , testing\n",
        "\n",
        "It is always advisory to divide the dataset into 80% for training , 20% for testing"
      ],
      "metadata": {
        "id": "JYYCZd4CUhTH"
      }
    },
    {
      "cell_type": "code",
      "source": [
        "#Create a train\\test split\n",
        "train_split = int(0.80 * len(X))\n",
        "x_train , y_train = X[:train_split] , y[:train_split]\n",
        "x_test , y_test = X[train_split:] , y[train_split:]"
      ],
      "metadata": {
        "id": "VIM63gcIUlKp"
      },
      "execution_count": 9,
      "outputs": []
    },
    {
      "cell_type": "code",
      "source": [
        "print(f\"x_train : {len(x_train)} , x_test : {len(x_test)} , y_train : {len(y_train)} , y_test : {len(y_test)}\")"
      ],
      "metadata": {
        "colab": {
          "base_uri": "https://localhost:8080/"
        },
        "id": "vVKwEeiPW_Gc",
        "outputId": "bc9ae7e6-f9b7-4a0d-89d4-c3926ef495e6"
      },
      "execution_count": 10,
      "outputs": [
        {
          "output_type": "stream",
          "name": "stdout",
          "text": [
            "x_train : 40 , x_test : 10 , y_train : 40 , y_test : 10\n"
          ]
        }
      ]
    },
    {
      "cell_type": "markdown",
      "source": [
        "What our model does :\n",
        "\n",
        "* Start with random values (weights & bias)\n",
        "* Look at training data and adjust the random values to better represent (or get closer to) the ideal values (the weights & bias values we used to create the data)\n",
        "\n",
        "Through two main algorithms\n",
        "\n",
        "1) Gradient descent\n",
        "\n",
        "2) Backpropagation"
      ],
      "metadata": {
        "id": "uhmD7lnF2UWN"
      }
    },
    {
      "cell_type": "code",
      "source": [
        "from torch import nn\n",
        "#Create a Linear Regression model\n",
        "#Almost everything inherits from nn.Module\n",
        "\n",
        "class LinearRegression(nn.Module):\n",
        "  def __init__(self):\n",
        "    super().__init__()\n",
        "    self.weight = nn.Parameter(torch.randn(1,requires_grad = True,dtype = torch.float))\n",
        "    self.bias = nn.Parameter(torch.randn(1,requires_grad = True , dtype = torch.float))\n",
        "  #Forward method to define the computation in the model\n",
        "  def forward(self,x : torch.Tensor) -> torch.Tensor :\n",
        "    return self.weight * x + self.bias\n"
      ],
      "metadata": {
        "id": "UHJRA0X_ePfy"
      },
      "execution_count": 11,
      "outputs": []
    },
    {
      "cell_type": "markdown",
      "source": [
        "#Pytorch model building esssentials :\n",
        "\n",
        "* torch.nn -> contains all of the buildings for computational graphs (a neural network can be considered a computational graph)\n",
        "\n",
        "* torch.nn.Parameter -> What parameters should our model try and learn , often a Pytorch layer from torch.nn will set these for us\n",
        "\n",
        "* torch.nn.Module -> The base class for all neural network modules , if you subclass it , you should overwrite forward()\n",
        "\n",
        "* torch.optim -> This where the optimizers in Pytorch live , they will help with gradient descent\n",
        "\n",
        "* def.forward() -> All nn.Module subclasses require you to overwrite forward() , this method defines what happens in the forward computation"
      ],
      "metadata": {
        "id": "hM42Sz6oLr6z"
      }
    },
    {
      "cell_type": "markdown",
      "source": [
        "#Checking the contents of our Pytorch model\n",
        "\n",
        "* We can check our model's parameters or what's inside our model using .parameters()"
      ],
      "metadata": {
        "id": "TE2m4_q1QgRU"
      }
    },
    {
      "cell_type": "code",
      "source": [
        "#Creating a reproducable seed\n",
        "torch.manual_seed(42)\n",
        "#Creating a instance of the class\n",
        "model = LinearRegression()\n",
        "#Check out the parameters\n",
        "list(model.parameters())"
      ],
      "metadata": {
        "id": "Ors6T0iuQ391",
        "colab": {
          "base_uri": "https://localhost:8080/"
        },
        "outputId": "4e5c5cf6-c024-42a3-fc7b-baf5df4a9539"
      },
      "execution_count": 12,
      "outputs": [
        {
          "output_type": "execute_result",
          "data": {
            "text/plain": [
              "[Parameter containing:\n",
              " tensor([0.3367], requires_grad=True),\n",
              " Parameter containing:\n",
              " tensor([0.1288], requires_grad=True)]"
            ]
          },
          "metadata": {},
          "execution_count": 12
        }
      ]
    },
    {
      "cell_type": "code",
      "source": [
        " #List the named parameters\n",
        " model.state_dict()"
      ],
      "metadata": {
        "id": "pc3NZj6eWfeM",
        "colab": {
          "base_uri": "https://localhost:8080/"
        },
        "outputId": "f651b640-16b7-4460-df95-8e249805af2c"
      },
      "execution_count": 13,
      "outputs": [
        {
          "output_type": "execute_result",
          "data": {
            "text/plain": [
              "OrderedDict([('weight', tensor([0.3367])), ('bias', tensor([0.1288]))])"
            ]
          },
          "metadata": {},
          "execution_count": 13
        }
      ]
    },
    {
      "cell_type": "markdown",
      "source": [
        "#Making prediction using 'torch.inference_mode()'\n",
        "\n",
        "To check our model's predictive power , let's check how well it predicts y_test based on x_test\n",
        "\n",
        "When we pass data through our model , it's going to run it through the forward() method"
      ],
      "metadata": {
        "id": "YZ8GWc8bYpHU"
      }
    },
    {
      "cell_type": "code",
      "source": [
        "#Making predictions\n",
        "with torch.inference_mode():\n",
        "  y_pred = model(x_test)\n",
        "y_pred"
      ],
      "metadata": {
        "colab": {
          "base_uri": "https://localhost:8080/"
        },
        "id": "BckF08SES01d",
        "outputId": "f583e4b2-2006-4e69-b4be-b6de45dfe739"
      },
      "execution_count": 14,
      "outputs": [
        {
          "output_type": "execute_result",
          "data": {
            "text/plain": [
              "tensor([[27.7374],\n",
              "        [28.4108],\n",
              "        [29.0842],\n",
              "        [29.7576],\n",
              "        [30.4309],\n",
              "        [31.1043],\n",
              "        [31.7777],\n",
              "        [32.4511],\n",
              "        [33.1245],\n",
              "        [33.7978]])"
            ]
          },
          "metadata": {},
          "execution_count": 14
        }
      ]
    },
    {
      "cell_type": "code",
      "source": [
        "y_test"
      ],
      "metadata": {
        "colab": {
          "base_uri": "https://localhost:8080/"
        },
        "id": "dyIBaaFwZWDq",
        "outputId": "a2c04d5f-b312-45cd-ca6e-9b6b87375535"
      },
      "execution_count": 15,
      "outputs": [
        {
          "output_type": "execute_result",
          "data": {
            "text/plain": [
              "tensor([[ 82.],\n",
              "        [ 84.],\n",
              "        [ 86.],\n",
              "        [ 88.],\n",
              "        [ 90.],\n",
              "        [ 92.],\n",
              "        [ 94.],\n",
              "        [ 96.],\n",
              "        [ 98.],\n",
              "        [100.]])"
            ]
          },
          "metadata": {},
          "execution_count": 15
        }
      ]
    },
    {
      "cell_type": "markdown",
      "source": [
        "Our model didn't perform well here because we had initialised random parameter"
      ],
      "metadata": {
        "id": "6Cw4wak0do-w"
      }
    },
    {
      "cell_type": "markdown",
      "source": [
        "#Train Model\n",
        "\n",
        "• Loss function: A function to measure how wrong your model's predictions are to the ideal outputs, lower is better.\n",
        "\n",
        "\n",
        "• Optimizer: Takes into account the loss of a model and adjusts the model's parameters (e.g. weight & bias in our case) to improve the loss\n",
        "function.\n",
        "\n",
        "\n",
        "And specifically for PyTorch, we need:\n",
        "\n",
        "A training loop\n",
        "\n",
        "A testing loop"
      ],
      "metadata": {
        "id": "mUwmQX1ReRCg"
      }
    },
    {
      "cell_type": "code",
      "source": [
        "#loss func\n",
        "\n",
        "loss_fn = nn.L1Loss()\n",
        "\n",
        "#optimizer func\n",
        "\n",
        "Optimizer = torch.optim.SGD(model.parameters() , lr = 0.0001)"
      ],
      "metadata": {
        "id": "F7N6jBpSZW7u"
      },
      "execution_count": 16,
      "outputs": []
    },
    {
      "cell_type": "code",
      "source": [],
      "metadata": {
        "id": "rv95EmyYZY5V"
      },
      "execution_count": 16,
      "outputs": []
    },
    {
      "cell_type": "markdown",
      "source": [
        "#Building a training loop and testing loop in Pytorch\n",
        "\n",
        "1.Loop through the data\n",
        "\n",
        "2.Forward pass (this involves data moving through our model's forward() functions) to make predictions on propagation\n",
        "\n",
        "3.Calculate the loss(compare forward pass predictions to ground truth labels)\n",
        "\n",
        "4.Optimizer zero grad\n",
        "\n",
        "5.Loss backward - moves backwards through the network to calculate the gradients of each of the parameters of the loss (backpropagation)\n",
        "\n",
        "6.Optimzer step - use the optimizer to adjust our model's parameters to try and improve the loss (gradient descent)"
      ],
      "metadata": {
        "id": "q1lv5Ph2ZaJm"
      }
    },
    {
      "cell_type": "code",
      "source": [
        "torch.manual_seed(42)\n",
        "from builtins import range\n",
        "#1.Loop through the data\n",
        "epochs = 1001\n",
        "for epoch in range(epochs):\n",
        "  #Set the model to training mode\n",
        "\n",
        "  model.train() #Train mode in Pytorch sets all parameters that require gradients to require gradients\n",
        "\n",
        "  #2.Forward pass\n",
        "\n",
        "  y_pred = model(x_train)\n",
        "\n",
        "  #3.Loss\n",
        "\n",
        "  Loss = loss_fn(y_pred , y_train)\n",
        "  #if(epoch % 10 == 0):\n",
        "    #print(f\"Loss is {Loss}\")\n",
        "\n",
        "  #4.Optimizer\n",
        "\n",
        "  Optimizer.zero_grad()\n",
        "\n",
        "  #5.Perform backpropagation on the loss with respect to the parameters of the model\n",
        "\n",
        "  Loss.backward()\n",
        "\n",
        "\n",
        "  #6.Step the optimzer(performs gradient descent)\n",
        "\n",
        "  Optimizer.step()\n",
        "\n",
        "  ##Testing\n",
        "  model.eval() #turns off different settings in the model not needed for evaluation/testing (dropout/batch norm layers)\n",
        "  with torch.inference_mode():\n",
        "    #1.Forward pass\n",
        "\n",
        "    test_pred = model(x_test)\n",
        "\n",
        "    #2 Loss\n",
        "\n",
        "    test_loss = loss_fn(test_pred,y_test)\n",
        "\n",
        "    if(epoch % 100 == 0):\n",
        "      print(f\"epoch : {epoch} , Loss : {Loss} , test_loss : {test_loss}\")\n",
        "      print(\"\\n\")\n",
        "      print(model.state_dict())\n",
        "\n",
        "#print(f\"Loss is {Loss}\")\n",
        "#print(f\" model.Parameter {model.state_dict()}\")"
      ],
      "metadata": {
        "id": "si6CUmBOo5H2",
        "outputId": "0ec6dd21-e374-4702-830a-ae17b3a0cfcf",
        "colab": {
          "base_uri": "https://localhost:8080/"
        }
      },
      "execution_count": 17,
      "outputs": [
        {
          "output_type": "stream",
          "name": "stdout",
          "text": [
            "epoch : 0 , Loss : 27.066884994506836 , test_loss : 59.859169006347656\n",
            "\n",
            "\n",
            "OrderedDict([('weight', tensor([0.3408])), ('bias', tensor([0.1289]))])\n",
            "epoch : 100 , Loss : 10.246831893920898 , test_loss : 22.539051055908203\n",
            "\n",
            "\n",
            "OrderedDict([('weight', tensor([0.7508])), ('bias', tensor([0.1389]))])\n",
            "epoch : 200 , Loss : 0.06100674346089363 , test_loss : 0.02373199537396431\n",
            "\n",
            "\n",
            "OrderedDict([('weight', tensor([0.9982])), ('bias', tensor([0.1435]))])\n",
            "epoch : 300 , Loss : 0.1251104176044464 , test_loss : 0.054277800023555756\n",
            "\n",
            "\n",
            "OrderedDict([('weight', tensor([0.9979])), ('bias', tensor([0.1403]))])\n",
            "epoch : 400 , Loss : 0.058002687990665436 , test_loss : 0.01560211181640625\n",
            "\n",
            "\n",
            "OrderedDict([('weight', tensor([0.9983])), ('bias', tensor([0.1372]))])\n",
            "epoch : 500 , Loss : 0.0707211047410965 , test_loss : 0.01400146447122097\n",
            "\n",
            "\n",
            "OrderedDict([('weight', tensor([0.9987])), ('bias', tensor([0.1341]))])\n",
            "epoch : 600 , Loss : 0.0863601490855217 , test_loss : 0.34135133028030396\n",
            "\n",
            "\n",
            "OrderedDict([('weight', tensor([0.9948])), ('bias', tensor([0.1310]))])\n",
            "epoch : 700 , Loss : 0.0822187140583992 , test_loss : 0.3470306396484375\n",
            "\n",
            "\n",
            "OrderedDict([('weight', tensor([0.9948])), ('bias', tensor([0.1281]))])\n",
            "epoch : 800 , Loss : 0.08630158007144928 , test_loss : 0.334512323141098\n",
            "\n",
            "\n",
            "OrderedDict([('weight', tensor([0.9949])), ('bias', tensor([0.1252]))])\n",
            "epoch : 900 , Loss : 0.08020086586475372 , test_loss : 0.34465789794921875\n",
            "\n",
            "\n",
            "OrderedDict([('weight', tensor([0.9949])), ('bias', tensor([0.1225]))])\n",
            "epoch : 1000 , Loss : 0.06516014039516449 , test_loss : 0.3747085630893707\n",
            "\n",
            "\n",
            "OrderedDict([('weight', tensor([0.9946])), ('bias', tensor([0.1197]))])\n"
          ]
        }
      ]
    },
    {
      "cell_type": "code",
      "source": [
        "Loss"
      ],
      "metadata": {
        "id": "hZoOmm_VxNus",
        "colab": {
          "base_uri": "https://localhost:8080/"
        },
        "outputId": "ceab2efb-7279-45dc-82e4-b8e3ec7ad579"
      },
      "execution_count": 18,
      "outputs": [
        {
          "output_type": "execute_result",
          "data": {
            "text/plain": [
              "tensor(0.0652, grad_fn=<MeanBackward0>)"
            ]
          },
          "metadata": {},
          "execution_count": 18
        }
      ]
    },
    {
      "cell_type": "markdown",
      "source": [
        "So the Loss is below 1 which is great model"
      ],
      "metadata": {
        "id": "9rX_9Cng5K1z"
      }
    },
    {
      "cell_type": "code",
      "source": [
        "test_loss"
      ],
      "metadata": {
        "id": "vCKC-aQuzek3",
        "colab": {
          "base_uri": "https://localhost:8080/"
        },
        "outputId": "3130da4a-0571-4295-f2a1-f89a0f0e2907"
      },
      "execution_count": 19,
      "outputs": [
        {
          "output_type": "execute_result",
          "data": {
            "text/plain": [
              "tensor(0.3747)"
            ]
          },
          "metadata": {},
          "execution_count": 19
        }
      ]
    },
    {
      "cell_type": "markdown",
      "source": [
        "Our training and testing model's loss is quite better"
      ],
      "metadata": {
        "id": "_GTT35Xx_YtL"
      }
    },
    {
      "cell_type": "code",
      "source": [
        "model.state_dict()"
      ],
      "metadata": {
        "colab": {
          "base_uri": "https://localhost:8080/"
        },
        "id": "m3BnJQdxdNRA",
        "outputId": "237f39cb-326c-4987-a4d6-9a67902ca354"
      },
      "execution_count": 20,
      "outputs": [
        {
          "output_type": "execute_result",
          "data": {
            "text/plain": [
              "OrderedDict([('weight', tensor([0.9946])), ('bias', tensor([0.1197]))])"
            ]
          },
          "metadata": {},
          "execution_count": 20
        }
      ]
    },
    {
      "cell_type": "markdown",
      "source": [
        "#Saving a model in Pytorch"
      ],
      "metadata": {
        "id": "BIUEbRMVfkOT"
      }
    },
    {
      "cell_type": "markdown",
      "source": [
        "There are 3 main methods you should about for saving and loading models in Pytorch\n",
        "\n",
        "1. \"torch.save()\" : Allows you save a Pytorch object in Python's pickle format\n",
        "\n",
        "2. \"torch.load()\" : allows you load a saved Pytorch object\n",
        "\n",
        "3. \"torch.nn.module.load_state_dict()\" : This allows to load a model's saved state dictionary"
      ],
      "metadata": {
        "id": "EnSqoQ53fpNP"
      }
    },
    {
      "cell_type": "code",
      "source": [
        "model.state_dict()"
      ],
      "metadata": {
        "id": "cdEtLpMZdP1M",
        "colab": {
          "base_uri": "https://localhost:8080/"
        },
        "outputId": "7570967b-1b85-4b27-b881-f65c67229aa3"
      },
      "execution_count": 21,
      "outputs": [
        {
          "output_type": "execute_result",
          "data": {
            "text/plain": [
              "OrderedDict([('weight', tensor([0.9946])), ('bias', tensor([0.1197]))])"
            ]
          },
          "metadata": {},
          "execution_count": 21
        }
      ]
    },
    {
      "cell_type": "code",
      "source": [
        "#Saving our Pytorch Model\n",
        "\n",
        "from pathlib import Path\n",
        "\n",
        "#Create model directory\n",
        "MODEL_PATH = Path(\"models\")\n",
        "MODEL_PATH.mkdir(parents = True , exist_ok = True)\n",
        "\n",
        "#Create model save path\n",
        "MODEL_NAME = \"LinearRegression_pytorch.pth\"\n",
        "MODEL_SAVE_PATH = MODEL_PATH/MODEL_NAME\n",
        "\n",
        "#Save the model state dict\n",
        "\n",
        "print(f\"Saving model to : {MODEL_SAVE_PATH}\")\n",
        "torch.save(obj = model.state_dict() , f = MODEL_SAVE_PATH)"
      ],
      "metadata": {
        "colab": {
          "base_uri": "https://localhost:8080/"
        },
        "id": "S_1J_uOPgbnB",
        "outputId": "0697178d-6a5b-42d2-fb5d-447956da9b0b"
      },
      "execution_count": 26,
      "outputs": [
        {
          "output_type": "stream",
          "name": "stdout",
          "text": [
            "Saving model to : models/LinearRegression_pytorch.pth\n"
          ]
        }
      ]
    },
    {
      "cell_type": "code",
      "source": [],
      "metadata": {
        "id": "1dwOPpc_pYzk"
      },
      "execution_count": null,
      "outputs": []
    }
  ]
}