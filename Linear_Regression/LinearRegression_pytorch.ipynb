{
  "nbformat": 4,
  "nbformat_minor": 0,
  "metadata": {
    "colab": {
      "provenance": []
    },
    "kernelspec": {
      "name": "python3",
      "display_name": "Python 3"
    },
    "language_info": {
      "name": "python"
    }
  },
  "cells": [
    {
      "cell_type": "markdown",
      "source": [
        "Pytorch workflow :\n",
        "\n",
        "1) Prepare and Load the Data\n",
        "\n",
        "2) Fitting the model to data\n",
        "\n",
        "3) Making predictions and evaluating the model\n",
        "\n",
        "4) Saving and loading a model\n",
        "\n",
        "5) Putting it all together"
      ],
      "metadata": {
        "id": "lc7nx6EScgis"
      }
    },
    {
      "cell_type": "code",
      "source": [
        "import torch\n",
        "from torch import nn"
      ],
      "metadata": {
        "id": "Skuw7iCBiJvo"
      },
      "execution_count": 1,
      "outputs": []
    },
    {
      "cell_type": "code",
      "source": [
        "import matplotlib.pyplot as plt\n",
        "import seaborn as sns\n",
        "import plotly.express as px"
      ],
      "metadata": {
        "id": "5QNnA-jGYHfM"
      },
      "execution_count": 2,
      "outputs": []
    },
    {
      "cell_type": "code",
      "source": [
        "#workflow of LinearRegression\n",
        "\n",
        "weight = 1\n",
        "bias = 0.0\n",
        "\n",
        "start = 2\n",
        "end = 101\n",
        "range = 2\n",
        "X = torch.arange(start,end,range).unsqueeze(dim=1)\n",
        "y = weight*X+bias"
      ],
      "metadata": {
        "id": "gK2ad4gUetHA"
      },
      "execution_count": 3,
      "outputs": []
    },
    {
      "cell_type": "code",
      "source": [
        "X"
      ],
      "metadata": {
        "id": "JKqmlkAviH4d",
        "colab": {
          "base_uri": "https://localhost:8080/"
        },
        "outputId": "3757d36b-305f-4176-fc43-4bbcfca85458"
      },
      "execution_count": 4,
      "outputs": [
        {
          "output_type": "execute_result",
          "data": {
            "text/plain": [
              "tensor([[  2],\n",
              "        [  4],\n",
              "        [  6],\n",
              "        [  8],\n",
              "        [ 10],\n",
              "        [ 12],\n",
              "        [ 14],\n",
              "        [ 16],\n",
              "        [ 18],\n",
              "        [ 20],\n",
              "        [ 22],\n",
              "        [ 24],\n",
              "        [ 26],\n",
              "        [ 28],\n",
              "        [ 30],\n",
              "        [ 32],\n",
              "        [ 34],\n",
              "        [ 36],\n",
              "        [ 38],\n",
              "        [ 40],\n",
              "        [ 42],\n",
              "        [ 44],\n",
              "        [ 46],\n",
              "        [ 48],\n",
              "        [ 50],\n",
              "        [ 52],\n",
              "        [ 54],\n",
              "        [ 56],\n",
              "        [ 58],\n",
              "        [ 60],\n",
              "        [ 62],\n",
              "        [ 64],\n",
              "        [ 66],\n",
              "        [ 68],\n",
              "        [ 70],\n",
              "        [ 72],\n",
              "        [ 74],\n",
              "        [ 76],\n",
              "        [ 78],\n",
              "        [ 80],\n",
              "        [ 82],\n",
              "        [ 84],\n",
              "        [ 86],\n",
              "        [ 88],\n",
              "        [ 90],\n",
              "        [ 92],\n",
              "        [ 94],\n",
              "        [ 96],\n",
              "        [ 98],\n",
              "        [100]])"
            ]
          },
          "metadata": {},
          "execution_count": 4
        }
      ]
    },
    {
      "cell_type": "code",
      "source": [
        "y"
      ],
      "metadata": {
        "colab": {
          "base_uri": "https://localhost:8080/"
        },
        "id": "muSawC1iv8d5",
        "outputId": "349aaec7-afcf-4b6d-df3b-0d37b15ee607"
      },
      "execution_count": 5,
      "outputs": [
        {
          "output_type": "execute_result",
          "data": {
            "text/plain": [
              "tensor([[  2.],\n",
              "        [  4.],\n",
              "        [  6.],\n",
              "        [  8.],\n",
              "        [ 10.],\n",
              "        [ 12.],\n",
              "        [ 14.],\n",
              "        [ 16.],\n",
              "        [ 18.],\n",
              "        [ 20.],\n",
              "        [ 22.],\n",
              "        [ 24.],\n",
              "        [ 26.],\n",
              "        [ 28.],\n",
              "        [ 30.],\n",
              "        [ 32.],\n",
              "        [ 34.],\n",
              "        [ 36.],\n",
              "        [ 38.],\n",
              "        [ 40.],\n",
              "        [ 42.],\n",
              "        [ 44.],\n",
              "        [ 46.],\n",
              "        [ 48.],\n",
              "        [ 50.],\n",
              "        [ 52.],\n",
              "        [ 54.],\n",
              "        [ 56.],\n",
              "        [ 58.],\n",
              "        [ 60.],\n",
              "        [ 62.],\n",
              "        [ 64.],\n",
              "        [ 66.],\n",
              "        [ 68.],\n",
              "        [ 70.],\n",
              "        [ 72.],\n",
              "        [ 74.],\n",
              "        [ 76.],\n",
              "        [ 78.],\n",
              "        [ 80.],\n",
              "        [ 82.],\n",
              "        [ 84.],\n",
              "        [ 86.],\n",
              "        [ 88.],\n",
              "        [ 90.],\n",
              "        [ 92.],\n",
              "        [ 94.],\n",
              "        [ 96.],\n",
              "        [ 98.],\n",
              "        [100.]])"
            ]
          },
          "metadata": {},
          "execution_count": 5
        }
      ]
    },
    {
      "cell_type": "code",
      "source": [
        "torch.is_tensor(X)"
      ],
      "metadata": {
        "colab": {
          "base_uri": "https://localhost:8080/"
        },
        "id": "faxDSRcMwCV9",
        "outputId": "1c5a208d-0a02-44b6-d90a-cefcccb9048b"
      },
      "execution_count": 6,
      "outputs": [
        {
          "output_type": "execute_result",
          "data": {
            "text/plain": [
              "True"
            ]
          },
          "metadata": {},
          "execution_count": 6
        }
      ]
    },
    {
      "cell_type": "code",
      "source": [
        "len(X)"
      ],
      "metadata": {
        "id": "Qfswo7f7yAWX",
        "colab": {
          "base_uri": "https://localhost:8080/"
        },
        "outputId": "637c70c8-d6d4-44f0-8b5d-a72ec94622ad"
      },
      "execution_count": 7,
      "outputs": [
        {
          "output_type": "execute_result",
          "data": {
            "text/plain": [
              "50"
            ]
          },
          "metadata": {},
          "execution_count": 7
        }
      ]
    },
    {
      "cell_type": "code",
      "source": [
        "len(y)"
      ],
      "metadata": {
        "colab": {
          "base_uri": "https://localhost:8080/"
        },
        "id": "_IvHgD_SVIbG",
        "outputId": "5ce66273-e7c8-43a1-a5d3-76c031893e50"
      },
      "execution_count": 8,
      "outputs": [
        {
          "output_type": "execute_result",
          "data": {
            "text/plain": [
              "50"
            ]
          },
          "metadata": {},
          "execution_count": 8
        }
      ]
    },
    {
      "cell_type": "markdown",
      "source": [
        "#Splitting the Data into training , testing\n",
        "\n",
        "It is always advisory to divide the dataset into 80% for training , 20% for testing"
      ],
      "metadata": {
        "id": "JYYCZd4CUhTH"
      }
    },
    {
      "cell_type": "code",
      "source": [
        "#Create a train\\test split\n",
        "train_split = int(0.80 * len(X))\n",
        "x_train , y_train = X[:train_split] , y[:train_split]\n",
        "x_test , y_test = X[train_split:] , y[train_split:]"
      ],
      "metadata": {
        "id": "VIM63gcIUlKp"
      },
      "execution_count": 9,
      "outputs": []
    },
    {
      "cell_type": "code",
      "source": [
        "print(f\"x_train : {len(x_train)} , x_test : {len(x_test)} , y_train : {len(y_train)} , y_test : {len(y_test)}\")"
      ],
      "metadata": {
        "colab": {
          "base_uri": "https://localhost:8080/"
        },
        "id": "vVKwEeiPW_Gc",
        "outputId": "a9c6b509-edec-4e7c-f1dd-f76bfb9d3a78"
      },
      "execution_count": 10,
      "outputs": [
        {
          "output_type": "stream",
          "name": "stdout",
          "text": [
            "x_train : 40 , x_test : 10 , y_train : 40 , y_test : 10\n"
          ]
        }
      ]
    },
    {
      "cell_type": "markdown",
      "source": [
        "What our model does :\n",
        "\n",
        "* Start with random values (weights & bias)\n",
        "* Look at training data and adjust the random values to better represent (or get closer to) the ideal values (the weights & bias values we used to create the data)\n",
        "\n",
        "Through two main algorithms\n",
        "\n",
        "1) Gradient descent\n",
        "\n",
        "2) Backpropagation"
      ],
      "metadata": {
        "id": "uhmD7lnF2UWN"
      }
    },
    {
      "cell_type": "code",
      "source": [
        "from torch import nn\n",
        "#Create a Linear Regression model\n",
        "#Almost everything inherits from nn.Module\n",
        "\n",
        "class LinearRegression(nn.Module):\n",
        "  def __init__(self):\n",
        "    super().__init__()\n",
        "    self.weight = nn.Parameter(torch.randn(1,requires_grad = True,dtype = torch.float))\n",
        "    self.bias = nn.Parameter(torch.randn(1,requires_grad = True , dtype = torch.float))\n",
        "  #Forward method to define the computation in the model\n",
        "  def forward(self,x : torch.Tensor) -> torch.Tensor :\n",
        "    return self.weight * x + self.bias\n"
      ],
      "metadata": {
        "id": "UHJRA0X_ePfy"
      },
      "execution_count": 11,
      "outputs": []
    },
    {
      "cell_type": "markdown",
      "source": [
        "#Pytorch model building esssentials :\n",
        "\n",
        "* torch.nn -> contains all of the buildings for computational graphs (a neural network can be considered a computational graph)\n",
        "\n",
        "* torch.nn.Parameter -> What parameters should our model try and learn , often a Pytorch layer from torch.nn will set these for us\n",
        "\n",
        "* torch.nn.Module -> The base class for all neural network modules , if you subclass it , you should overwrite forward()\n",
        "\n",
        "* torch.optim -> This where the optimizers in Pytorch live , they will help with gradient descent\n",
        "\n",
        "* def.forward() -> All nn.Module subclasses require you to overwrite forward() , this method defines what happens in the forward computation"
      ],
      "metadata": {
        "id": "hM42Sz6oLr6z"
      }
    },
    {
      "cell_type": "markdown",
      "source": [
        "#Checking the contents of our Pytorch model\n",
        "\n",
        "* We can check our model's parameters or what's inside our model using .parameters()"
      ],
      "metadata": {
        "id": "TE2m4_q1QgRU"
      }
    },
    {
      "cell_type": "code",
      "source": [
        "#Creating a reproducable seed\n",
        "torch.manual_seed(42)\n",
        "#Creating a instance of the class\n",
        "model = LinearRegression()\n",
        "#Check out the parameters\n",
        "list(model.parameters())"
      ],
      "metadata": {
        "id": "Ors6T0iuQ391",
        "colab": {
          "base_uri": "https://localhost:8080/"
        },
        "outputId": "cdaca38e-89c6-48b5-b41d-9fd8b202f0f8"
      },
      "execution_count": 12,
      "outputs": [
        {
          "output_type": "execute_result",
          "data": {
            "text/plain": [
              "[Parameter containing:\n",
              " tensor([0.3367], requires_grad=True),\n",
              " Parameter containing:\n",
              " tensor([0.1288], requires_grad=True)]"
            ]
          },
          "metadata": {},
          "execution_count": 12
        }
      ]
    },
    {
      "cell_type": "code",
      "source": [
        " #List the named parameters\n",
        " model.state_dict()"
      ],
      "metadata": {
        "id": "pc3NZj6eWfeM",
        "colab": {
          "base_uri": "https://localhost:8080/"
        },
        "outputId": "017f490c-0e0f-4939-ae7e-04ee66e23709"
      },
      "execution_count": 13,
      "outputs": [
        {
          "output_type": "execute_result",
          "data": {
            "text/plain": [
              "OrderedDict([('weight', tensor([0.3367])), ('bias', tensor([0.1288]))])"
            ]
          },
          "metadata": {},
          "execution_count": 13
        }
      ]
    },
    {
      "cell_type": "markdown",
      "source": [
        "#Making prediction using 'torch.inference_mode()'\n",
        "\n",
        "To check our model's predictive power , let's check how well it predicts y_test based on x_test\n",
        "\n",
        "When we pass data through our model , it's going to run it through the forward() method"
      ],
      "metadata": {
        "id": "YZ8GWc8bYpHU"
      }
    },
    {
      "cell_type": "code",
      "source": [
        "#Making predictions\n",
        "with torch.inference_mode():\n",
        "  y_pred = model(x_test)\n",
        "y_pred"
      ],
      "metadata": {
        "colab": {
          "base_uri": "https://localhost:8080/"
        },
        "id": "BckF08SES01d",
        "outputId": "50ad7395-5658-405a-e579-64270d4681d8"
      },
      "execution_count": 14,
      "outputs": [
        {
          "output_type": "execute_result",
          "data": {
            "text/plain": [
              "tensor([[27.7374],\n",
              "        [28.4108],\n",
              "        [29.0842],\n",
              "        [29.7576],\n",
              "        [30.4309],\n",
              "        [31.1043],\n",
              "        [31.7777],\n",
              "        [32.4511],\n",
              "        [33.1245],\n",
              "        [33.7978]])"
            ]
          },
          "metadata": {},
          "execution_count": 14
        }
      ]
    },
    {
      "cell_type": "code",
      "source": [
        "y_test"
      ],
      "metadata": {
        "colab": {
          "base_uri": "https://localhost:8080/"
        },
        "id": "dyIBaaFwZWDq",
        "outputId": "ea47d075-f810-4770-881e-c5aa45bb8928"
      },
      "execution_count": 15,
      "outputs": [
        {
          "output_type": "execute_result",
          "data": {
            "text/plain": [
              "tensor([[ 82.],\n",
              "        [ 84.],\n",
              "        [ 86.],\n",
              "        [ 88.],\n",
              "        [ 90.],\n",
              "        [ 92.],\n",
              "        [ 94.],\n",
              "        [ 96.],\n",
              "        [ 98.],\n",
              "        [100.]])"
            ]
          },
          "metadata": {},
          "execution_count": 15
        }
      ]
    },
    {
      "cell_type": "markdown",
      "source": [
        "Our model didn't perform well here because we had initialised random parameter"
      ],
      "metadata": {
        "id": "6Cw4wak0do-w"
      }
    },
    {
      "cell_type": "markdown",
      "source": [
        "#Train Model\n",
        "\n",
        "• Loss function: A function to measure how wrong your model's predictions are to the ideal outputs, lower is better.\n",
        "\n",
        "\n",
        "• Optimizer: Takes into account the loss of a model and adjusts the model's parameters (e.g. weight & bias in our case) to improve the loss\n",
        "function.\n",
        "\n",
        "\n",
        "And specifically for PyTorch, we need:\n",
        "\n",
        "A training loop\n",
        "\n",
        "A testing loop"
      ],
      "metadata": {
        "id": "mUwmQX1ReRCg"
      }
    },
    {
      "cell_type": "code",
      "source": [
        "#loss func\n",
        "\n",
        "loss_fn = nn.L1Loss()\n",
        "\n",
        "#optimizer func\n",
        "\n",
        "Optimizer = torch.optim.SGD(model.parameters() , lr = 0.001)"
      ],
      "metadata": {
        "id": "F7N6jBpSZW7u"
      },
      "execution_count": 16,
      "outputs": []
    },
    {
      "cell_type": "code",
      "source": [],
      "metadata": {
        "id": "rv95EmyYZY5V"
      },
      "execution_count": 16,
      "outputs": []
    },
    {
      "cell_type": "markdown",
      "source": [
        "#Building a training loop and testing loop in Pytorch\n",
        "\n",
        "1.Loop through the data\n",
        "\n",
        "2.Forward pass (this involves data moving through our model's forward() functions) to make predictions on propagation\n",
        "\n",
        "3.Calculate the loss(compare forward pass predictions to ground truth labels)\n",
        "\n",
        "4.Optimizer zero grad\n",
        "\n",
        "5.Loss backward - moves backwards through the network to calculate the gradients of each of the parameters of the loss (backpropagation)\n",
        "\n",
        "6.Optimzer step - use the optimizer to adjust our model's parameters to try and improve the loss (gradient descent)"
      ],
      "metadata": {
        "id": "q1lv5Ph2ZaJm"
      }
    },
    {
      "cell_type": "code",
      "source": [
        "torch.manual_seed(42)\n",
        "from builtins import range\n",
        "#1.Loop through the data\n",
        "epochs = 100\n",
        "for epoch in range(epochs):\n",
        "  #Set the model to training mode\n",
        "\n",
        "  model.train() #Train mode in Pytorch sets all parameters that require gradients to require gradients\n",
        "\n",
        "  #2.Forward pass\n",
        "\n",
        "  y_pred = model(x_train)\n",
        "\n",
        "  #3.Loss\n",
        "\n",
        "  Loss = loss_fn(y_pred , y_train)\n",
        "  print(f\"Loss is {Loss}\")\n",
        "\n",
        "  #4.Optimizer\n",
        "\n",
        "  Optimizer.zero_grad()\n",
        "\n",
        "  #5.Perform backpropagation on the loss with respect to the parameters of the model\n",
        "\n",
        "  Loss.backward()\n",
        "\n",
        "\n",
        "  #6.Step the optimzer(performs gradient descent)\n",
        "\n",
        "  Optimizer.step()\n",
        "\n",
        "  ##Testing\n",
        "  model.eval()\n",
        "print(f\"Loss is {Loss}\")\n",
        "print(f\" model.Parameter {model.state_dict()}\")"
      ],
      "metadata": {
        "id": "si6CUmBOo5H2",
        "outputId": "60d8f424-2a10-43df-ca5a-413132adc4cf",
        "colab": {
          "base_uri": "https://localhost:8080/"
        }
      },
      "execution_count": 17,
      "outputs": [
        {
          "output_type": "stream",
          "name": "stdout",
          "text": [
            "Loss is 27.066884994506836\n",
            "Loss is 25.3848876953125\n",
            "Loss is 23.702884674072266\n",
            "Loss is 22.020885467529297\n",
            "Loss is 20.338886260986328\n",
            "Loss is 18.656885147094727\n",
            "Loss is 16.974884033203125\n",
            "Loss is 15.292881965637207\n",
            "Loss is 13.610880851745605\n",
            "Loss is 11.928881645202637\n",
            "Loss is 10.246881484985352\n",
            "Loss is 8.564882278442383\n",
            "Loss is 6.882882595062256\n",
            "Loss is 5.2008819580078125\n",
            "Loss is 3.5188801288604736\n",
            "Loss is 1.839240312576294\n",
            "Loss is 0.1908290684223175\n",
            "Loss is 1.3380210399627686\n",
            "Loss is 0.36226189136505127\n",
            "Loss is 1.2516213655471802\n",
            "Loss is 0.44536709785461426\n",
            "Loss is 1.1898715496063232\n",
            "Loss is 0.5053712129592896\n",
            "Loss is 1.1486690044403076\n",
            "Loss is 0.5455338358879089\n",
            "Loss is 1.107466459274292\n",
            "Loss is 0.585695743560791\n",
            "Loss is 1.066265344619751\n",
            "Loss is 0.6261041760444641\n",
            "Loss is 1.0415161848068237\n",
            "Loss is 0.6504693031311035\n",
            "Loss is 1.016767144203186\n",
            "Loss is 0.6748364567756653\n",
            "Loss is 0.9920177459716797\n",
            "Loss is 0.6992042064666748\n",
            "Loss is 0.9672685861587524\n",
            "Loss is 0.7235697507858276\n",
            "Loss is 0.9425193667411804\n",
            "Loss is 0.7479362487792969\n",
            "Loss is 0.9177697896957397\n",
            "Loss is 0.7723047137260437\n",
            "Loss is 0.8930212259292603\n",
            "Loss is 0.7966698408126831\n",
            "Loss is 0.8682714700698853\n",
            "Loss is 0.8210365176200867\n",
            "Loss is 0.8435222506523132\n",
            "Loss is 0.8454864621162415\n",
            "Loss is 0.8311196565628052\n",
            "Loss is 0.8577887415885925\n",
            "Loss is 0.8187177777290344\n",
            "Loss is 0.8700903058052063\n",
            "Loss is 0.8063161969184875\n",
            "Loss is 0.8823918104171753\n",
            "Loss is 0.793914794921875\n",
            "Loss is 0.8946931958198547\n",
            "Loss is 0.7815133333206177\n",
            "Loss is 0.9069963693618774\n",
            "Loss is 0.7691102623939514\n",
            "Loss is 0.9192982912063599\n",
            "Loss is 0.7567086219787598\n",
            "Loss is 0.9316009283065796\n",
            "Loss is 0.7443059086799622\n",
            "Loss is 0.9439026117324829\n",
            "Loss is 0.7319037318229675\n",
            "Loss is 0.9562041163444519\n",
            "Loss is 0.7195006608963013\n",
            "Loss is 0.9685071706771851\n",
            "Loss is 0.7070995569229126\n",
            "Loss is 0.980809211730957\n",
            "Loss is 0.6946975588798523\n",
            "Loss is 0.9931102991104126\n",
            "Loss is 0.6822963953018188\n",
            "Loss is 1.005411982536316\n",
            "Loss is 0.6698945760726929\n",
            "Loss is 1.0177150964736938\n",
            "Loss is 0.6574915051460266\n",
            "Loss is 1.0300160646438599\n",
            "Loss is 0.6450899839401245\n",
            "Loss is 1.0423179864883423\n",
            "Loss is 0.6326867341995239\n",
            "Loss is 1.0546209812164307\n",
            "Loss is 0.6202855110168457\n",
            "Loss is 1.0669227838516235\n",
            "Loss is 0.6078835725784302\n",
            "Loss is 1.0792255401611328\n",
            "Loss is 0.5954803824424744\n",
            "Loss is 1.0915272235870361\n",
            "Loss is 0.5830790996551514\n",
            "Loss is 1.1038286685943604\n",
            "Loss is 0.5706776976585388\n",
            "Loss is 1.1161301136016846\n",
            "Loss is 0.5582758188247681\n",
            "Loss is 1.1284316778182983\n",
            "Loss is 0.5458731055259705\n",
            "Loss is 1.1407346725463867\n",
            "Loss is 0.5334717631340027\n",
            "Loss is 1.15303635597229\n",
            "Loss is 0.5210698246955872\n",
            "Loss is 1.1653392314910889\n",
            "Loss is 0.5086665749549866\n",
            "Loss is 0.5086665749549866\n",
            " model.Parameter OrderedDict([('weight', tensor([0.9680])), ('bias', tensor([0.1391]))])\n"
          ]
        }
      ]
    },
    {
      "cell_type": "code",
      "source": [
        "Loss"
      ],
      "metadata": {
        "id": "hZoOmm_VxNus",
        "colab": {
          "base_uri": "https://localhost:8080/"
        },
        "outputId": "73b43055-8139-4cf2-d874-714c232f8475"
      },
      "execution_count": 18,
      "outputs": [
        {
          "output_type": "execute_result",
          "data": {
            "text/plain": [
              "tensor(0.5087, grad_fn=<MeanBackward0>)"
            ]
          },
          "metadata": {},
          "execution_count": 18
        }
      ]
    },
    {
      "cell_type": "code",
      "source": [],
      "metadata": {
        "id": "vCKC-aQuzek3"
      },
      "execution_count": 20,
      "outputs": []
    },
    {
      "cell_type": "code",
      "source": [],
      "metadata": {
        "id": "m3BnJQdxdNRA"
      },
      "execution_count": 20,
      "outputs": []
    },
    {
      "cell_type": "code",
      "source": [],
      "metadata": {
        "id": "cdEtLpMZdP1M"
      },
      "execution_count": 20,
      "outputs": []
    }
  ]
}