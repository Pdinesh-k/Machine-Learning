{
  "nbformat": 4,
  "nbformat_minor": 0,
  "metadata": {
    "colab": {
      "provenance": []
    },
    "kernelspec": {
      "name": "python3",
      "display_name": "Python 3"
    },
    "language_info": {
      "name": "python"
    }
  },
  "cells": [
    {
      "cell_type": "markdown",
      "source": [
        "Pytorch workflow :\n",
        "\n",
        "1) Prepare and Load the Data\n",
        "\n",
        "2) Fitting the model to data\n",
        "\n",
        "3) Making predictions and evaluating the model\n",
        "\n",
        "4) Saving and loading a model\n",
        "\n",
        "5) Putting it all together"
      ],
      "metadata": {
        "id": "lc7nx6EScgis"
      }
    },
    {
      "cell_type": "code",
      "source": [
        "import torch\n",
        "from torch import nn"
      ],
      "metadata": {
        "id": "Skuw7iCBiJvo"
      },
      "execution_count": 21,
      "outputs": []
    },
    {
      "cell_type": "code",
      "source": [
        "import matplotlib.pyplot as plt\n",
        "import seaborn as sns\n",
        "import plotly.express as px"
      ],
      "metadata": {
        "id": "5QNnA-jGYHfM"
      },
      "execution_count": 22,
      "outputs": []
    },
    {
      "cell_type": "code",
      "source": [
        "#workflow of LinearRegression\n",
        "\n",
        "weight = 1\n",
        "bias = 0.0\n",
        "\n",
        "start = 2\n",
        "end = 101\n",
        "range = 2\n",
        "X = torch.arange(start,end,range).unsqueeze(dim=1)\n",
        "y = weight*X+bias"
      ],
      "metadata": {
        "id": "gK2ad4gUetHA"
      },
      "execution_count": 23,
      "outputs": []
    },
    {
      "cell_type": "code",
      "source": [
        "X"
      ],
      "metadata": {
        "id": "JKqmlkAviH4d",
        "colab": {
          "base_uri": "https://localhost:8080/"
        },
        "outputId": "13ba9e0a-fcb0-495a-9fc7-9de5b119d0d2"
      },
      "execution_count": 24,
      "outputs": [
        {
          "output_type": "execute_result",
          "data": {
            "text/plain": [
              "tensor([[  2],\n",
              "        [  4],\n",
              "        [  6],\n",
              "        [  8],\n",
              "        [ 10],\n",
              "        [ 12],\n",
              "        [ 14],\n",
              "        [ 16],\n",
              "        [ 18],\n",
              "        [ 20],\n",
              "        [ 22],\n",
              "        [ 24],\n",
              "        [ 26],\n",
              "        [ 28],\n",
              "        [ 30],\n",
              "        [ 32],\n",
              "        [ 34],\n",
              "        [ 36],\n",
              "        [ 38],\n",
              "        [ 40],\n",
              "        [ 42],\n",
              "        [ 44],\n",
              "        [ 46],\n",
              "        [ 48],\n",
              "        [ 50],\n",
              "        [ 52],\n",
              "        [ 54],\n",
              "        [ 56],\n",
              "        [ 58],\n",
              "        [ 60],\n",
              "        [ 62],\n",
              "        [ 64],\n",
              "        [ 66],\n",
              "        [ 68],\n",
              "        [ 70],\n",
              "        [ 72],\n",
              "        [ 74],\n",
              "        [ 76],\n",
              "        [ 78],\n",
              "        [ 80],\n",
              "        [ 82],\n",
              "        [ 84],\n",
              "        [ 86],\n",
              "        [ 88],\n",
              "        [ 90],\n",
              "        [ 92],\n",
              "        [ 94],\n",
              "        [ 96],\n",
              "        [ 98],\n",
              "        [100]])"
            ]
          },
          "metadata": {},
          "execution_count": 24
        }
      ]
    },
    {
      "cell_type": "code",
      "source": [
        "y"
      ],
      "metadata": {
        "colab": {
          "base_uri": "https://localhost:8080/"
        },
        "id": "muSawC1iv8d5",
        "outputId": "2da70010-1df8-47ab-dc42-a37eb0ef12d1"
      },
      "execution_count": 25,
      "outputs": [
        {
          "output_type": "execute_result",
          "data": {
            "text/plain": [
              "tensor([[  2.],\n",
              "        [  4.],\n",
              "        [  6.],\n",
              "        [  8.],\n",
              "        [ 10.],\n",
              "        [ 12.],\n",
              "        [ 14.],\n",
              "        [ 16.],\n",
              "        [ 18.],\n",
              "        [ 20.],\n",
              "        [ 22.],\n",
              "        [ 24.],\n",
              "        [ 26.],\n",
              "        [ 28.],\n",
              "        [ 30.],\n",
              "        [ 32.],\n",
              "        [ 34.],\n",
              "        [ 36.],\n",
              "        [ 38.],\n",
              "        [ 40.],\n",
              "        [ 42.],\n",
              "        [ 44.],\n",
              "        [ 46.],\n",
              "        [ 48.],\n",
              "        [ 50.],\n",
              "        [ 52.],\n",
              "        [ 54.],\n",
              "        [ 56.],\n",
              "        [ 58.],\n",
              "        [ 60.],\n",
              "        [ 62.],\n",
              "        [ 64.],\n",
              "        [ 66.],\n",
              "        [ 68.],\n",
              "        [ 70.],\n",
              "        [ 72.],\n",
              "        [ 74.],\n",
              "        [ 76.],\n",
              "        [ 78.],\n",
              "        [ 80.],\n",
              "        [ 82.],\n",
              "        [ 84.],\n",
              "        [ 86.],\n",
              "        [ 88.],\n",
              "        [ 90.],\n",
              "        [ 92.],\n",
              "        [ 94.],\n",
              "        [ 96.],\n",
              "        [ 98.],\n",
              "        [100.]])"
            ]
          },
          "metadata": {},
          "execution_count": 25
        }
      ]
    },
    {
      "cell_type": "code",
      "source": [
        "torch.is_tensor(X)"
      ],
      "metadata": {
        "colab": {
          "base_uri": "https://localhost:8080/"
        },
        "id": "faxDSRcMwCV9",
        "outputId": "8341a734-1670-4728-b6f2-a4bfd5aeef4d"
      },
      "execution_count": 26,
      "outputs": [
        {
          "output_type": "execute_result",
          "data": {
            "text/plain": [
              "True"
            ]
          },
          "metadata": {},
          "execution_count": 26
        }
      ]
    },
    {
      "cell_type": "code",
      "source": [
        "len(X)"
      ],
      "metadata": {
        "id": "Qfswo7f7yAWX",
        "colab": {
          "base_uri": "https://localhost:8080/"
        },
        "outputId": "1ba67dbb-8f9a-4cf7-d54c-c854bde7a77a"
      },
      "execution_count": 27,
      "outputs": [
        {
          "output_type": "execute_result",
          "data": {
            "text/plain": [
              "50"
            ]
          },
          "metadata": {},
          "execution_count": 27
        }
      ]
    },
    {
      "cell_type": "code",
      "source": [
        "len(y)"
      ],
      "metadata": {
        "colab": {
          "base_uri": "https://localhost:8080/"
        },
        "id": "_IvHgD_SVIbG",
        "outputId": "1c7650e5-724e-40ea-e5ee-2f8668e61aaf"
      },
      "execution_count": 28,
      "outputs": [
        {
          "output_type": "execute_result",
          "data": {
            "text/plain": [
              "50"
            ]
          },
          "metadata": {},
          "execution_count": 28
        }
      ]
    },
    {
      "cell_type": "markdown",
      "source": [
        "#Splitting the Data into training , testing\n",
        "\n",
        "It is always advisory to divide the dataset into 80% for training , 20% for testing"
      ],
      "metadata": {
        "id": "JYYCZd4CUhTH"
      }
    },
    {
      "cell_type": "code",
      "source": [
        "#Create a train\\test split\n",
        "train_split = int(0.80 * len(X))\n",
        "x_train , y_train = X[:train_split] , y[:train_split]\n",
        "x_test , y_test = X[train_split:] , y[train_split:]"
      ],
      "metadata": {
        "id": "VIM63gcIUlKp"
      },
      "execution_count": 29,
      "outputs": []
    },
    {
      "cell_type": "code",
      "source": [
        "print(f\"x_train : {len(x_train)} , x_test : {len(x_test)} , y_train : {len(y_train)} , y_test : {len(y_test)}\")"
      ],
      "metadata": {
        "colab": {
          "base_uri": "https://localhost:8080/"
        },
        "id": "vVKwEeiPW_Gc",
        "outputId": "508f8175-8064-4ffc-b4da-374dd8785f9e"
      },
      "execution_count": 30,
      "outputs": [
        {
          "output_type": "stream",
          "name": "stdout",
          "text": [
            "x_train : 40 , x_test : 10 , y_train : 40 , y_test : 10\n"
          ]
        }
      ]
    },
    {
      "cell_type": "markdown",
      "source": [
        "What our model does :\n",
        "\n",
        "* Start with random values (weights & bias)\n",
        "* Look at training data and adjust the random values to better represent (or get closer to) the ideal values (the weights & bias values we used to create the data)\n",
        "\n",
        "Through two main algorithms\n",
        "\n",
        "1) Gradient descent\n",
        "\n",
        "2) Backpropagation"
      ],
      "metadata": {
        "id": "uhmD7lnF2UWN"
      }
    },
    {
      "cell_type": "code",
      "source": [
        "from torch import nn\n",
        "#Create a Linear Regression model\n",
        "#Almost everything inherits from nn.Module\n",
        "\n",
        "class LinearRegression(nn.Module):\n",
        "  def __init__(self):\n",
        "    super().__init__()\n",
        "    self.weight = nn.Parameter(torch.randn(1,requires_grad = True,dtype = torch.float))\n",
        "    self.bias = nn.Parameter(torch.randn(1,requires_grad = True , dtype = torch.float))\n",
        "  #Forward method to define the computation in the model\n",
        "  def forward(self,x : torch.Tensor) -> torch.Tensor :\n",
        "    return self.weight * x + self.bias\n"
      ],
      "metadata": {
        "id": "UHJRA0X_ePfy"
      },
      "execution_count": 74,
      "outputs": []
    },
    {
      "cell_type": "markdown",
      "source": [
        "#Pytorch model building esssentials :\n",
        "\n",
        "* torch.nn -> contains all of the buildings for computational graphs (a neural network can be considered a computational graph)\n",
        "\n",
        "* torch.nn.Parameter -> What parameters should our model try and learn , often a Pytorch layer from torch.nn will set these for us\n",
        "\n",
        "* torch.nn.Module -> The base class for all neural network modules , if you subclass it , you should overwrite forward()\n",
        "\n",
        "* torch.optim -> This where the optimizers in Pytorch live , they will help with gradient descent\n",
        "\n",
        "* def.forward() -> All nn.Module subclasses require you to overwrite forward() , this method defines what happens in the forward computation"
      ],
      "metadata": {
        "id": "hM42Sz6oLr6z"
      }
    },
    {
      "cell_type": "markdown",
      "source": [
        "#Checking the contents of our Pytorch model\n",
        "\n",
        "* We can check our model's parameters or what's inside our model using .parameters()"
      ],
      "metadata": {
        "id": "TE2m4_q1QgRU"
      }
    },
    {
      "cell_type": "code",
      "source": [
        "#Creating a reproducable seed\n",
        "torch.manual_seed(42)\n",
        "#Creating a instance of the class\n",
        "model = LinearRegression()\n",
        "#Check out the parameters\n",
        "list(model.parameters())"
      ],
      "metadata": {
        "id": "Ors6T0iuQ391",
        "colab": {
          "base_uri": "https://localhost:8080/"
        },
        "outputId": "5cec67c2-1964-4827-a07a-dc8ce5566940"
      },
      "execution_count": 75,
      "outputs": [
        {
          "output_type": "execute_result",
          "data": {
            "text/plain": [
              "[Parameter containing:\n",
              " tensor([0.3367], requires_grad=True),\n",
              " Parameter containing:\n",
              " tensor([0.1288], requires_grad=True)]"
            ]
          },
          "metadata": {},
          "execution_count": 75
        }
      ]
    },
    {
      "cell_type": "code",
      "source": [
        " #List the named parameters\n",
        " model.state_dict()"
      ],
      "metadata": {
        "id": "pc3NZj6eWfeM",
        "colab": {
          "base_uri": "https://localhost:8080/"
        },
        "outputId": "50141118-690f-447f-e196-aca36b71a3e1"
      },
      "execution_count": 76,
      "outputs": [
        {
          "output_type": "execute_result",
          "data": {
            "text/plain": [
              "OrderedDict([('weight', tensor([0.3367])), ('bias', tensor([0.1288]))])"
            ]
          },
          "metadata": {},
          "execution_count": 76
        }
      ]
    },
    {
      "cell_type": "markdown",
      "source": [
        "#Making prediction using 'torch.inference_mode()'\n",
        "\n",
        "To check our model's predictive power , let's check how well it predicts y_test based on x_test\n",
        "\n",
        "When we pass data through our model , it's going to run it through the forward() method"
      ],
      "metadata": {
        "id": "YZ8GWc8bYpHU"
      }
    },
    {
      "cell_type": "code",
      "source": [
        "#Making predictions\n",
        "with torch.inference_mode():\n",
        "  y_pred = model(x_test)\n",
        "y_pred"
      ],
      "metadata": {
        "colab": {
          "base_uri": "https://localhost:8080/"
        },
        "id": "BckF08SES01d",
        "outputId": "226ff044-ede2-4bc8-d589-753f95a9839f"
      },
      "execution_count": 77,
      "outputs": [
        {
          "output_type": "execute_result",
          "data": {
            "text/plain": [
              "tensor([[27.7374],\n",
              "        [28.4108],\n",
              "        [29.0842],\n",
              "        [29.7576],\n",
              "        [30.4309],\n",
              "        [31.1043],\n",
              "        [31.7777],\n",
              "        [32.4511],\n",
              "        [33.1245],\n",
              "        [33.7978]])"
            ]
          },
          "metadata": {},
          "execution_count": 77
        }
      ]
    },
    {
      "cell_type": "code",
      "source": [
        "y_test"
      ],
      "metadata": {
        "colab": {
          "base_uri": "https://localhost:8080/"
        },
        "id": "dyIBaaFwZWDq",
        "outputId": "39ffb866-18cb-4fdc-b825-0436f3257ca8"
      },
      "execution_count": 78,
      "outputs": [
        {
          "output_type": "execute_result",
          "data": {
            "text/plain": [
              "tensor([[ 82.],\n",
              "        [ 84.],\n",
              "        [ 86.],\n",
              "        [ 88.],\n",
              "        [ 90.],\n",
              "        [ 92.],\n",
              "        [ 94.],\n",
              "        [ 96.],\n",
              "        [ 98.],\n",
              "        [100.]])"
            ]
          },
          "metadata": {},
          "execution_count": 78
        }
      ]
    },
    {
      "cell_type": "markdown",
      "source": [
        "Our model didn't perform well here because we had initialised random parameter"
      ],
      "metadata": {
        "id": "6Cw4wak0do-w"
      }
    },
    {
      "cell_type": "markdown",
      "source": [
        "#Train Model\n",
        "\n",
        "• Loss function: A function to measure how wrong your model's predictions are to the ideal outputs, lower is better.\n",
        "\n",
        "\n",
        "• Optimizer: Takes into account the loss of a model and adjusts the model's parameters (e.g. weight & bias in our case) to improve the loss\n",
        "function.\n",
        "\n",
        "\n",
        "And specifically for PyTorch, we need:\n",
        "\n",
        "A training loop\n",
        "\n",
        "A testing loop"
      ],
      "metadata": {
        "id": "mUwmQX1ReRCg"
      }
    },
    {
      "cell_type": "code",
      "source": [
        "#loss func\n",
        "\n",
        "loss_fn = nn.L1Loss()\n",
        "\n",
        "#optimizer func\n",
        "\n",
        "Optimizer = torch.optim.SGD(model.parameters() , lr = 0.0001)"
      ],
      "metadata": {
        "id": "F7N6jBpSZW7u"
      },
      "execution_count": 90,
      "outputs": []
    },
    {
      "cell_type": "code",
      "source": [],
      "metadata": {
        "id": "rv95EmyYZY5V"
      },
      "execution_count": 90,
      "outputs": []
    },
    {
      "cell_type": "markdown",
      "source": [
        "#Building a training loop and testing loop in Pytorch\n",
        "\n",
        "1.Loop through the data\n",
        "\n",
        "2.Forward pass (this involves data moving through our model's forward() functions) to make predictions on propagation\n",
        "\n",
        "3.Calculate the loss(compare forward pass predictions to ground truth labels)\n",
        "\n",
        "4.Optimizer zero grad\n",
        "\n",
        "5.Loss backward - moves backwards through the network to calculate the gradients of each of the parameters of the loss (backpropagation)\n",
        "\n",
        "6.Optimzer step - use the optimizer to adjust our model's parameters to try and improve the loss (gradient descent)"
      ],
      "metadata": {
        "id": "q1lv5Ph2ZaJm"
      }
    },
    {
      "cell_type": "code",
      "source": [
        "torch.manual_seed(42)\n",
        "from builtins import range\n",
        "#1.Loop through the data\n",
        "epochs = 1001\n",
        "for epoch in range(epochs):\n",
        "  #Set the model to training mode\n",
        "\n",
        "  model.train() #Train mode in Pytorch sets all parameters that require gradients to require gradients\n",
        "\n",
        "  #2.Forward pass\n",
        "\n",
        "  y_pred = model(x_train)\n",
        "\n",
        "  #3.Loss\n",
        "\n",
        "  Loss = loss_fn(y_pred , y_train)\n",
        "  #if(epoch % 10 == 0):\n",
        "    #print(f\"Loss is {Loss}\")\n",
        "\n",
        "  #4.Optimizer\n",
        "\n",
        "  Optimizer.zero_grad()\n",
        "\n",
        "  #5.Perform backpropagation on the loss with respect to the parameters of the model\n",
        "\n",
        "  Loss.backward()\n",
        "\n",
        "\n",
        "  #6.Step the optimzer(performs gradient descent)\n",
        "\n",
        "  Optimizer.step()\n",
        "\n",
        "  ##Testing\n",
        "  model.eval() #turns off different settings in the model not needed for evaluation/testing (dropout/batch norm layers)\n",
        "  with torch.inference_mode():\n",
        "    #1.Forward pass\n",
        "\n",
        "    test_pred = model(x_test)\n",
        "\n",
        "    #2 Loss\n",
        "\n",
        "    test_loss = loss_fn(test_pred,y_test)\n",
        "\n",
        "    if(epoch % 100 == 0):\n",
        "      print(f\"epoch : {epoch} , Loss : {Loss} , test_loss : {test_loss}\")\n",
        "      print(\"\\n\")\n",
        "      print(model.state_dict())\n",
        "\n",
        "#print(f\"Loss is {Loss}\")\n",
        "#print(f\" model.Parameter {model.state_dict()}\")"
      ],
      "metadata": {
        "id": "si6CUmBOo5H2",
        "outputId": "688705d1-c305-4e69-c579-16eedac8836d",
        "colab": {
          "base_uri": "https://localhost:8080/"
        }
      },
      "execution_count": 96,
      "outputs": [
        {
          "output_type": "stream",
          "name": "stdout",
          "text": [
            "epoch : 0 , Loss : 0.01906818151473999 , test_loss : 0.27499160170555115\n",
            "\n",
            "\n",
            "OrderedDict([('weight', tensor([0.9965])), ('bias', tensor([0.0411]))])\n",
            "epoch : 100 , Loss : 0.017171602696180344 , test_loss : 0.18190307915210724\n",
            "\n",
            "\n",
            "OrderedDict([('weight', tensor([0.9976])), ('bias', tensor([0.0400]))])\n",
            "epoch : 200 , Loss : 0.030921149998903275 , test_loss : 0.3522453308105469\n",
            "\n",
            "\n",
            "OrderedDict([('weight', tensor([0.9957])), ('bias', tensor([0.0390]))])\n",
            "epoch : 300 , Loss : 0.017007797956466675 , test_loss : 0.2427467405796051\n",
            "\n",
            "\n",
            "OrderedDict([('weight', tensor([0.9969])), ('bias', tensor([0.0380]))])\n",
            "epoch : 400 , Loss : 0.08484801650047302 , test_loss : 0.2301078736782074\n",
            "\n",
            "\n",
            "OrderedDict([('weight', tensor([0.9971])), ('bias', tensor([0.0370]))])\n",
            "epoch : 500 , Loss : 0.05424152687191963 , test_loss : 0.29672470688819885\n",
            "\n",
            "\n",
            "OrderedDict([('weight', tensor([0.9963])), ('bias', tensor([0.0359]))])\n",
            "epoch : 600 , Loss : 0.028248244896531105 , test_loss : 0.35324859619140625\n",
            "\n",
            "\n",
            "OrderedDict([('weight', tensor([0.9957])), ('bias', tensor([0.0349]))])\n",
            "epoch : 700 , Loss : 0.05930782109498978 , test_loss : 0.2832038998603821\n",
            "\n",
            "\n",
            "OrderedDict([('weight', tensor([0.9965])), ('bias', tensor([0.0340]))])\n",
            "epoch : 800 , Loss : 0.02567780576646328 , test_loss : 0.35688477754592896\n",
            "\n",
            "\n",
            "OrderedDict([('weight', tensor([0.9957])), ('bias', tensor([0.0333]))])\n",
            "epoch : 900 , Loss : 0.03585861995816231 , test_loss : 0.33324432373046875\n",
            "\n",
            "\n",
            "OrderedDict([('weight', tensor([0.9960])), ('bias', tensor([0.0324]))])\n",
            "epoch : 1000 , Loss : 0.03500403091311455 , test_loss : 0.3341507017612457\n",
            "\n",
            "\n",
            "OrderedDict([('weight', tensor([0.9960])), ('bias', tensor([0.0316]))])\n"
          ]
        }
      ]
    },
    {
      "cell_type": "code",
      "source": [
        "Loss"
      ],
      "metadata": {
        "id": "hZoOmm_VxNus",
        "colab": {
          "base_uri": "https://localhost:8080/"
        },
        "outputId": "aa6a7d09-e528-4e3d-8870-d6d2e91b905b"
      },
      "execution_count": 98,
      "outputs": [
        {
          "output_type": "execute_result",
          "data": {
            "text/plain": [
              "tensor(0.0350, grad_fn=<MeanBackward0>)"
            ]
          },
          "metadata": {},
          "execution_count": 98
        }
      ]
    },
    {
      "cell_type": "markdown",
      "source": [
        "So the Loss is below 1 which is great model"
      ],
      "metadata": {
        "id": "9rX_9Cng5K1z"
      }
    },
    {
      "cell_type": "code",
      "source": [
        "test_loss"
      ],
      "metadata": {
        "id": "vCKC-aQuzek3",
        "colab": {
          "base_uri": "https://localhost:8080/"
        },
        "outputId": "cb5be83e-7984-4773-e6b4-90bb48151a3c"
      },
      "execution_count": 99,
      "outputs": [
        {
          "output_type": "execute_result",
          "data": {
            "text/plain": [
              "tensor(0.3342)"
            ]
          },
          "metadata": {},
          "execution_count": 99
        }
      ]
    },
    {
      "cell_type": "markdown",
      "source": [
        "Our training and testing model's loss is quite better"
      ],
      "metadata": {
        "id": "_GTT35Xx_YtL"
      }
    },
    {
      "cell_type": "code",
      "source": [
        "model.state_dict()"
      ],
      "metadata": {
        "colab": {
          "base_uri": "https://localhost:8080/"
        },
        "id": "m3BnJQdxdNRA",
        "outputId": "a436bf9f-4e70-4dd9-8b19-33b358015432"
      },
      "execution_count": 97,
      "outputs": [
        {
          "output_type": "execute_result",
          "data": {
            "text/plain": [
              "OrderedDict([('weight', tensor([0.9960])), ('bias', tensor([0.0316]))])"
            ]
          },
          "metadata": {},
          "execution_count": 97
        }
      ]
    },
    {
      "cell_type": "code",
      "source": [],
      "metadata": {
        "id": "cdEtLpMZdP1M"
      },
      "execution_count": 38,
      "outputs": []
    }
  ]
}